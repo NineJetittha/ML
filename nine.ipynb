{
 "cells": [
  {
   "cell_type": "code",
   "execution_count": 3,
   "metadata": {},
   "outputs": [],
   "source": [
    "import cv2"
   ]
  },
  {
   "cell_type": "code",
   "execution_count": 4,
   "metadata": {},
   "outputs": [],
   "source": [
    "import pandas as pd"
   ]
  },
  {
   "cell_type": "code",
   "execution_count": 5,
   "metadata": {},
   "outputs": [],
   "source": [
    "from IPython.display import display"
   ]
  },
  {
   "cell_type": "code",
   "execution_count": null,
   "metadata": {},
   "outputs": [],
   "source": []
  },
  {
   "cell_type": "code",
   "execution_count": 1,
   "metadata": {},
   "outputs": [
    {
     "name": "stderr",
     "output_type": "stream",
     "text": [
      "--2025-01-31 12:02:05--  https://assets.gezdev.com/faidi/IrisSpecies.csv\n",
      "Resolving assets.gezdev.com (assets.gezdev.com)... 203.158.180.101\n",
      "Connecting to assets.gezdev.com (assets.gezdev.com)|203.158.180.101|:443... connected.\n",
      "HTTP request sent, awaiting response... 200 OK\n",
      "Length: 5107 (5.0K) [application/octet-stream]\n",
      "Saving to: 'IrisSpecies.csv'\n",
      "\n",
      "     0K ....                                                  100%  424M=0s\n",
      "\n",
      "2025-01-31 12:02:05 (424 MB/s) - 'IrisSpecies.csv' saved [5107/5107]\n",
      "\n"
     ]
    }
   ],
   "source": [
    "!wget https://assets.gezdev.com/faidi/IrisSpecies.csv"
   ]
  },
  {
   "cell_type": "markdown",
   "metadata": {},
   "source": [
    "from IPython.display import display"
   ]
  }
 ],
 "metadata": {
  "kernelspec": {
   "display_name": "venv-ml",
   "language": "python",
   "name": "python3"
  },
  "language_info": {
   "codemirror_mode": {
    "name": "ipython",
    "version": 3
   },
   "file_extension": ".py",
   "mimetype": "text/x-python",
   "name": "python",
   "nbconvert_exporter": "python",
   "pygments_lexer": "ipython3",
   "version": "3.10.11"
  }
 },
 "nbformat": 4,
 "nbformat_minor": 2
}
